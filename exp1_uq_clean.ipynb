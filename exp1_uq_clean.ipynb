{
 "cells": [
  {
   "cell_type": "code",
   "execution_count": 41,
   "metadata": {},
   "outputs": [],
   "source": [
    "import ale_py  # Ensure Atari environment is registered\n",
    "import numpy as np, os, torch, pandas as pd\n",
    "from stable_baselines3 import DQN\n",
    "from stable_baselines3.common.env_util import make_atari_env\n",
    "from stable_baselines3.common.vec_env import VecFrameStack, VecTransposeImage\n",
    "from stable_baselines3.common.evaluation import evaluate_policy\n",
    "from rl_zoo3.utils import create_test_env, get_saved_hyperparams"
   ]
  },
  {
   "cell_type": "code",
   "execution_count": 42,
   "metadata": {},
   "outputs": [],
   "source": [
    "def get_q_value(model, obs_tensor, action):\n",
    "    with torch.no_grad():\n",
    "        q_values = model.q_net(obs_tensor)\n",
    "        return q_values[0, action].item()"
   ]
  },
  {
   "cell_type": "code",
   "execution_count": 43,
   "metadata": {},
   "outputs": [
    {
     "name": "stdout",
     "output_type": "stream",
     "text": [
      "Stacking 4 frames\n"
     ]
    }
   ],
   "source": [
    "ENV_ID = \"SeaquestNoFrameskip-v4\"\n",
    "MODEL_PATH = \"logs/dqn/SeaquestNoFrameskip-v4_1/best_model.zip\"\n",
    "STATS_PATH = \"logs/dqn/SeaquestNoFrameskip-v4_1/SeaquestNoFrameskip-v4\"\n",
    "SEED = 0\n",
    "EVAL_EPISODES = 5\n",
    "hyperparams, stats_path = get_saved_hyperparams(STATS_PATH)\n",
    "env = create_test_env(\n",
    "    env_id=ENV_ID,\n",
    "    n_envs=1,\n",
    "    stats_path=stats_path,\n",
    "    seed=SEED,\n",
    "    log_dir=None,\n",
    "    should_render=False,\n",
    "    hyperparams=hyperparams,\n",
    ")"
   ]
  },
  {
   "cell_type": "code",
   "execution_count": 44,
   "metadata": {},
   "outputs": [
    {
     "name": "stdout",
     "output_type": "stream",
     "text": [
      "Wrapping the env in a VecTransposeImage.\n",
      "✅ Model loaded.\n"
     ]
    }
   ],
   "source": [
    "model = DQN.load(\n",
    "    MODEL_PATH,\n",
    "    env=env,\n",
    "    buffer_size=1,\n",
    "    custom_objects={\n",
    "        \"learning_rate\": 0.0,\n",
    "        \"lr_schedule\": lambda _: 0.0,\n",
    "        \"exploration_schedule\": lambda _: 0.0,\n",
    "    },\n",
    ")\n",
    "print(\"✅ Model loaded.\")\n",
    "gamma = model.gamma"
   ]
  },
  {
   "cell_type": "code",
   "execution_count": null,
   "metadata": {},
   "outputs": [],
   "source": [
    "data = []\n",
    "for _ in range(EVAL_EPISODES):\n",
    "    obs = env.reset()\n",
    "    rewards, q_vals, actions = [], [], []\n",
    "    done = [False]\n",
    "    while not done[0]:\n",
    "        obs_tensor = torch.as_tensor(obs).to(model.device).float().permute(0, 3, 1, 2) / 255.0\n",
    "        with torch.no_grad():\n",
    "            q_values = model.policy.q_net(obs_tensor)[0]\n",
    "        action = int(torch.argmax(q_values).item())\n",
    "        q_vals.append(q_values[action].item())\n",
    "        actions.append(action)\n",
    "        obs, reward, done, info = env.step([action])\n",
    "        rewards.append(reward[0])\n",
    "        done = [done[0]]\n",
    "\n",
    "    G = 0\n",
    "    returns = []\n",
    "    for r in reversed(rewards):\n",
    "        G = r + gamma * G\n",
    "        returns.insert(0, G)\n",
    "    for q, R, a in zip(q_vals, returns, actions):\n",
    "        data.append((q, R, a))\n",
    "\n",
    "env.close()\n",
    "df = pd.DataFrame(data, columns=[\"Q_value\", \"MC_return\", \"action\"])\n",
    "df.to_csv(\"q_mc_eval.csv\", index=False)"
   ]
  },
  {
   "cell_type": "code",
   "execution_count": null,
   "metadata": {},
   "outputs": [],
   "source": []
  }
 ],
 "metadata": {
  "kernelspec": {
   "display_name": "base",
   "language": "python",
   "name": "python3"
  },
  "language_info": {
   "codemirror_mode": {
    "name": "ipython",
    "version": 3
   },
   "file_extension": ".py",
   "mimetype": "text/x-python",
   "name": "python",
   "nbconvert_exporter": "python",
   "pygments_lexer": "ipython3",
   "version": "3.12.3"
  }
 },
 "nbformat": 4,
 "nbformat_minor": 2
}
